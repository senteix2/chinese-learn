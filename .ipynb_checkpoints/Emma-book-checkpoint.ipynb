{
 "cells": [
  {
   "cell_type": "markdown",
   "metadata": {},
   "source": [
    "# First page \n",
    "\n",
    "![1](./images/1.jpg)\n",
    "早上好。Buenos días.\n",
    "\n",
    "晚上好。Buenas noches.\n",
    "\n",
    "再见。  Adiós.\n",
    "\n",
    "晚安。  Buenas noches.\n",
    "\n",
    "您好！  ¡Hola! \n",
    "\n",
    "谢谢。  Gracias.\n",
    "\n",
    "是。/不是。 Si. No.\n",
    "\n",
    "\n",
    "![2](./images/2.jpg)\n",
    "\n",
    "![3](./images/3.jpg)\n",
    "\n",
    "![4](./images/4.jpg)\n",
    "\n",
    "![5](./images/5.jpg)\n"
   ]
  },
  {
   "cell_type": "code",
   "execution_count": null,
   "metadata": {},
   "outputs": [],
   "source": []
  }
 ],
 "metadata": {
  "kernelspec": {
   "display_name": "Python 3",
   "language": "python",
   "name": "python3"
  },
  "language_info": {
   "codemirror_mode": {
    "name": "ipython",
    "version": 3
   },
   "file_extension": ".py",
   "mimetype": "text/x-python",
   "name": "python",
   "nbconvert_exporter": "python",
   "pygments_lexer": "ipython3",
   "version": "3.8.3"
  }
 },
 "nbformat": 4,
 "nbformat_minor": 4
}
